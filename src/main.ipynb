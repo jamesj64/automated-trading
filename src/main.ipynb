{
 "cells": [
  {
   "cell_type": "code",
   "execution_count": null,
   "id": "fb4bee27ec1d9f96",
   "metadata": {
    "collapsed": false
   },
   "outputs": [],
   "source": [
    "from strategies import SMACrossover\n",
    "\n",
    "sma_crossover = SMACrossover.SMACrossover(conf_file=\"./../oanda.cfg\", instrument=\"EUR_USD\", bar_length=\"1min\", units=1000, duration=5)"
   ]
  }
 ],
 "metadata": {
  "kernelspec": {
   "display_name": "Python 3",
   "language": "python",
   "name": "python3"
  },
  "language_info": {
   "codemirror_mode": {
    "name": "ipython",
    "version": 3
   },
   "file_extension": ".py",
   "mimetype": "text/x-python",
   "name": "python",
   "nbconvert_exporter": "python",
   "pygments_lexer": "ipython3",
   "version": "3.10.6"
  }
 },
 "nbformat": 4,
 "nbformat_minor": 5
}
